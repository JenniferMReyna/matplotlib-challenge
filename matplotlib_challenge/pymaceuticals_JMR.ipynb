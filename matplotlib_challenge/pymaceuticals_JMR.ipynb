{
 "cells": [
  {
   "cell_type": "markdown",
   "metadata": {},
   "source": [
    "## Observations and Insights "
   ]
  },
  {
   "cell_type": "markdown",
   "metadata": {},
   "source": []
  },
  {
   "cell_type": "code",
   "execution_count": 1,
   "metadata": {},
   "outputs": [
    {
     "data": {
      "text/html": [
       "<div>\n",
       "<style scoped>\n",
       "    .dataframe tbody tr th:only-of-type {\n",
       "        vertical-align: middle;\n",
       "    }\n",
       "\n",
       "    .dataframe tbody tr th {\n",
       "        vertical-align: top;\n",
       "    }\n",
       "\n",
       "    .dataframe thead th {\n",
       "        text-align: right;\n",
       "    }\n",
       "</style>\n",
       "<table border=\"1\" class=\"dataframe\">\n",
       "  <thead>\n",
       "    <tr style=\"text-align: right;\">\n",
       "      <th></th>\n",
       "      <th>Mouse ID</th>\n",
       "      <th>Drug Regimen</th>\n",
       "      <th>Sex</th>\n",
       "      <th>Age_months</th>\n",
       "      <th>Weight (g)</th>\n",
       "      <th>Timepoint</th>\n",
       "      <th>Tumor Volume (mm3)</th>\n",
       "      <th>Metastatic Sites</th>\n",
       "    </tr>\n",
       "  </thead>\n",
       "  <tbody>\n",
       "    <tr>\n",
       "      <th>0</th>\n",
       "      <td>k403</td>\n",
       "      <td>Ramicane</td>\n",
       "      <td>Male</td>\n",
       "      <td>21</td>\n",
       "      <td>16</td>\n",
       "      <td>0</td>\n",
       "      <td>45.000000</td>\n",
       "      <td>0</td>\n",
       "    </tr>\n",
       "    <tr>\n",
       "      <th>1</th>\n",
       "      <td>k403</td>\n",
       "      <td>Ramicane</td>\n",
       "      <td>Male</td>\n",
       "      <td>21</td>\n",
       "      <td>16</td>\n",
       "      <td>5</td>\n",
       "      <td>38.825898</td>\n",
       "      <td>0</td>\n",
       "    </tr>\n",
       "    <tr>\n",
       "      <th>2</th>\n",
       "      <td>k403</td>\n",
       "      <td>Ramicane</td>\n",
       "      <td>Male</td>\n",
       "      <td>21</td>\n",
       "      <td>16</td>\n",
       "      <td>10</td>\n",
       "      <td>35.014271</td>\n",
       "      <td>1</td>\n",
       "    </tr>\n",
       "    <tr>\n",
       "      <th>3</th>\n",
       "      <td>k403</td>\n",
       "      <td>Ramicane</td>\n",
       "      <td>Male</td>\n",
       "      <td>21</td>\n",
       "      <td>16</td>\n",
       "      <td>15</td>\n",
       "      <td>34.223992</td>\n",
       "      <td>1</td>\n",
       "    </tr>\n",
       "    <tr>\n",
       "      <th>4</th>\n",
       "      <td>k403</td>\n",
       "      <td>Ramicane</td>\n",
       "      <td>Male</td>\n",
       "      <td>21</td>\n",
       "      <td>16</td>\n",
       "      <td>20</td>\n",
       "      <td>32.997729</td>\n",
       "      <td>1</td>\n",
       "    </tr>\n",
       "  </tbody>\n",
       "</table>\n",
       "</div>"
      ],
      "text/plain": [
       "  Mouse ID Drug Regimen   Sex  Age_months  Weight (g)  Timepoint  \\\n",
       "0     k403     Ramicane  Male          21          16          0   \n",
       "1     k403     Ramicane  Male          21          16          5   \n",
       "2     k403     Ramicane  Male          21          16         10   \n",
       "3     k403     Ramicane  Male          21          16         15   \n",
       "4     k403     Ramicane  Male          21          16         20   \n",
       "\n",
       "   Tumor Volume (mm3)  Metastatic Sites  \n",
       "0           45.000000                 0  \n",
       "1           38.825898                 0  \n",
       "2           35.014271                 1  \n",
       "3           34.223992                 1  \n",
       "4           32.997729                 1  "
      ]
     },
     "execution_count": 1,
     "metadata": {},
     "output_type": "execute_result"
    }
   ],
   "source": [
    "# Dependencies and Setup\n",
    "import matplotlib.pyplot as plt\n",
    "import pandas as pd\n",
    "import scipy.stats as st\n",
    "import numpy as np\n",
    "\n",
    "# Study data files\n",
    "mouse_metadata_path = \"data/Mouse_metadata.csv\"\n",
    "study_results_path = \"data/Study_results.csv\"\n",
    "\n",
    "# Read the mouse data and the study results\n",
    "mouse_metadata = pd.read_csv(mouse_metadata_path)\n",
    "study_results = pd.read_csv(study_results_path)\n",
    "\n",
    "# Combine the data into a single dataset\n",
    "combined_results = pd.merge(mouse_metadata, study_results, how = \"outer\", on = \"Mouse ID\")\n",
    "\n",
    "# Display the data table for preview\n",
    "combined_results.head()"
   ]
  },
  {
   "cell_type": "code",
   "execution_count": 2,
   "metadata": {},
   "outputs": [
    {
     "name": "stdout",
     "output_type": "stream",
     "text": [
      "249\n"
     ]
    }
   ],
   "source": [
    "# Checking the number of mice.\n",
    "mice_count = combined_results[\"Mouse ID\"].nunique()\n",
    "print(mice_count)"
   ]
  },
  {
   "cell_type": "code",
   "execution_count": 3,
   "metadata": {},
   "outputs": [
    {
     "name": "stdout",
     "output_type": "stream",
     "text": [
      "['g989']\n"
     ]
    }
   ],
   "source": [
    "# Getting the duplicate mice by ID number that shows up for Mouse ID and Timepoint. \n",
    "mice_dupe = combined_results.loc[combined_results.duplicated(subset = [\"Mouse ID\", \"Timepoint\"]), \"Mouse ID\"].unique()\n",
    "print(mice_dupe)"
   ]
  },
  {
   "cell_type": "code",
   "execution_count": 4,
   "metadata": {},
   "outputs": [],
   "source": [
    "# Optional: Get all the data for the duplicate mouse ID. \n",
    "#duplicate mouse ID is \"g989\"\n"
   ]
  },
  {
   "cell_type": "code",
   "execution_count": 5,
   "metadata": {},
   "outputs": [
    {
     "data": {
      "text/html": [
       "<div>\n",
       "<style scoped>\n",
       "    .dataframe tbody tr th:only-of-type {\n",
       "        vertical-align: middle;\n",
       "    }\n",
       "\n",
       "    .dataframe tbody tr th {\n",
       "        vertical-align: top;\n",
       "    }\n",
       "\n",
       "    .dataframe thead th {\n",
       "        text-align: right;\n",
       "    }\n",
       "</style>\n",
       "<table border=\"1\" class=\"dataframe\">\n",
       "  <thead>\n",
       "    <tr style=\"text-align: right;\">\n",
       "      <th></th>\n",
       "      <th>Mouse ID</th>\n",
       "      <th>Drug Regimen</th>\n",
       "      <th>Sex</th>\n",
       "      <th>Age_months</th>\n",
       "      <th>Weight (g)</th>\n",
       "      <th>Timepoint</th>\n",
       "      <th>Tumor Volume (mm3)</th>\n",
       "      <th>Metastatic Sites</th>\n",
       "    </tr>\n",
       "  </thead>\n",
       "  <tbody>\n",
       "    <tr>\n",
       "      <th>0</th>\n",
       "      <td>k403</td>\n",
       "      <td>Ramicane</td>\n",
       "      <td>Male</td>\n",
       "      <td>21</td>\n",
       "      <td>16</td>\n",
       "      <td>0</td>\n",
       "      <td>45.000000</td>\n",
       "      <td>0</td>\n",
       "    </tr>\n",
       "    <tr>\n",
       "      <th>1</th>\n",
       "      <td>k403</td>\n",
       "      <td>Ramicane</td>\n",
       "      <td>Male</td>\n",
       "      <td>21</td>\n",
       "      <td>16</td>\n",
       "      <td>5</td>\n",
       "      <td>38.825898</td>\n",
       "      <td>0</td>\n",
       "    </tr>\n",
       "    <tr>\n",
       "      <th>2</th>\n",
       "      <td>k403</td>\n",
       "      <td>Ramicane</td>\n",
       "      <td>Male</td>\n",
       "      <td>21</td>\n",
       "      <td>16</td>\n",
       "      <td>10</td>\n",
       "      <td>35.014271</td>\n",
       "      <td>1</td>\n",
       "    </tr>\n",
       "    <tr>\n",
       "      <th>3</th>\n",
       "      <td>k403</td>\n",
       "      <td>Ramicane</td>\n",
       "      <td>Male</td>\n",
       "      <td>21</td>\n",
       "      <td>16</td>\n",
       "      <td>15</td>\n",
       "      <td>34.223992</td>\n",
       "      <td>1</td>\n",
       "    </tr>\n",
       "    <tr>\n",
       "      <th>4</th>\n",
       "      <td>k403</td>\n",
       "      <td>Ramicane</td>\n",
       "      <td>Male</td>\n",
       "      <td>21</td>\n",
       "      <td>16</td>\n",
       "      <td>20</td>\n",
       "      <td>32.997729</td>\n",
       "      <td>1</td>\n",
       "    </tr>\n",
       "    <tr>\n",
       "      <th>...</th>\n",
       "      <td>...</td>\n",
       "      <td>...</td>\n",
       "      <td>...</td>\n",
       "      <td>...</td>\n",
       "      <td>...</td>\n",
       "      <td>...</td>\n",
       "      <td>...</td>\n",
       "      <td>...</td>\n",
       "    </tr>\n",
       "    <tr>\n",
       "      <th>1888</th>\n",
       "      <td>z969</td>\n",
       "      <td>Naftisol</td>\n",
       "      <td>Male</td>\n",
       "      <td>9</td>\n",
       "      <td>30</td>\n",
       "      <td>25</td>\n",
       "      <td>63.145652</td>\n",
       "      <td>2</td>\n",
       "    </tr>\n",
       "    <tr>\n",
       "      <th>1889</th>\n",
       "      <td>z969</td>\n",
       "      <td>Naftisol</td>\n",
       "      <td>Male</td>\n",
       "      <td>9</td>\n",
       "      <td>30</td>\n",
       "      <td>30</td>\n",
       "      <td>65.841013</td>\n",
       "      <td>3</td>\n",
       "    </tr>\n",
       "    <tr>\n",
       "      <th>1890</th>\n",
       "      <td>z969</td>\n",
       "      <td>Naftisol</td>\n",
       "      <td>Male</td>\n",
       "      <td>9</td>\n",
       "      <td>30</td>\n",
       "      <td>35</td>\n",
       "      <td>69.176246</td>\n",
       "      <td>4</td>\n",
       "    </tr>\n",
       "    <tr>\n",
       "      <th>1891</th>\n",
       "      <td>z969</td>\n",
       "      <td>Naftisol</td>\n",
       "      <td>Male</td>\n",
       "      <td>9</td>\n",
       "      <td>30</td>\n",
       "      <td>40</td>\n",
       "      <td>70.314904</td>\n",
       "      <td>4</td>\n",
       "    </tr>\n",
       "    <tr>\n",
       "      <th>1892</th>\n",
       "      <td>z969</td>\n",
       "      <td>Naftisol</td>\n",
       "      <td>Male</td>\n",
       "      <td>9</td>\n",
       "      <td>30</td>\n",
       "      <td>45</td>\n",
       "      <td>73.867845</td>\n",
       "      <td>4</td>\n",
       "    </tr>\n",
       "  </tbody>\n",
       "</table>\n",
       "<p>1880 rows × 8 columns</p>\n",
       "</div>"
      ],
      "text/plain": [
       "     Mouse ID Drug Regimen   Sex  Age_months  Weight (g)  Timepoint  \\\n",
       "0        k403     Ramicane  Male          21          16          0   \n",
       "1        k403     Ramicane  Male          21          16          5   \n",
       "2        k403     Ramicane  Male          21          16         10   \n",
       "3        k403     Ramicane  Male          21          16         15   \n",
       "4        k403     Ramicane  Male          21          16         20   \n",
       "...       ...          ...   ...         ...         ...        ...   \n",
       "1888     z969     Naftisol  Male           9          30         25   \n",
       "1889     z969     Naftisol  Male           9          30         30   \n",
       "1890     z969     Naftisol  Male           9          30         35   \n",
       "1891     z969     Naftisol  Male           9          30         40   \n",
       "1892     z969     Naftisol  Male           9          30         45   \n",
       "\n",
       "      Tumor Volume (mm3)  Metastatic Sites  \n",
       "0              45.000000                 0  \n",
       "1              38.825898                 0  \n",
       "2              35.014271                 1  \n",
       "3              34.223992                 1  \n",
       "4              32.997729                 1  \n",
       "...                  ...               ...  \n",
       "1888           63.145652                 2  \n",
       "1889           65.841013                 3  \n",
       "1890           69.176246                 4  \n",
       "1891           70.314904                 4  \n",
       "1892           73.867845                 4  \n",
       "\n",
       "[1880 rows x 8 columns]"
      ]
     },
     "execution_count": 5,
     "metadata": {},
     "output_type": "execute_result"
    }
   ],
   "source": [
    "# Create a clean DataFrame by dropping the duplicate mouse by its ID.\n",
    "mice_df = combined_results[combined_results[\"Mouse ID\"].isin(mice_dupe)==False]\n",
    "pd.DataFrame(mice_df)"
   ]
  },
  {
   "cell_type": "code",
   "execution_count": 6,
   "metadata": {},
   "outputs": [
    {
     "data": {
      "text/plain": [
       "248"
      ]
     },
     "execution_count": 6,
     "metadata": {},
     "output_type": "execute_result"
    }
   ],
   "source": [
    "# Checking the number of mice in the clean DataFrame.\n",
    "mice_count = mice_df[\"Mouse ID\"].nunique()\n",
    "mice_count"
   ]
  },
  {
   "cell_type": "markdown",
   "metadata": {},
   "source": [
    "## Summary Statistics"
   ]
  },
  {
   "cell_type": "code",
   "execution_count": 7,
   "metadata": {
    "scrolled": true
   },
   "outputs": [
    {
     "data": {
      "text/html": [
       "<div>\n",
       "<style scoped>\n",
       "    .dataframe tbody tr th:only-of-type {\n",
       "        vertical-align: middle;\n",
       "    }\n",
       "\n",
       "    .dataframe tbody tr th {\n",
       "        vertical-align: top;\n",
       "    }\n",
       "\n",
       "    .dataframe thead th {\n",
       "        text-align: right;\n",
       "    }\n",
       "</style>\n",
       "<table border=\"1\" class=\"dataframe\">\n",
       "  <thead>\n",
       "    <tr style=\"text-align: right;\">\n",
       "      <th></th>\n",
       "      <th>Mean</th>\n",
       "      <th>Median</th>\n",
       "      <th>Variance</th>\n",
       "      <th>Standard Deviation</th>\n",
       "      <th>Standard Error of Mean</th>\n",
       "    </tr>\n",
       "    <tr>\n",
       "      <th>Drug Regimen</th>\n",
       "      <th></th>\n",
       "      <th></th>\n",
       "      <th></th>\n",
       "      <th></th>\n",
       "      <th></th>\n",
       "    </tr>\n",
       "  </thead>\n",
       "  <tbody>\n",
       "    <tr>\n",
       "      <th>Capomulin</th>\n",
       "      <td>40.676</td>\n",
       "      <td>41.558</td>\n",
       "      <td>24.948</td>\n",
       "      <td>4.995</td>\n",
       "      <td>0.329</td>\n",
       "    </tr>\n",
       "    <tr>\n",
       "      <th>Ceftamin</th>\n",
       "      <td>52.591</td>\n",
       "      <td>51.776</td>\n",
       "      <td>39.290</td>\n",
       "      <td>6.268</td>\n",
       "      <td>0.470</td>\n",
       "    </tr>\n",
       "    <tr>\n",
       "      <th>Infubinol</th>\n",
       "      <td>52.885</td>\n",
       "      <td>51.821</td>\n",
       "      <td>43.129</td>\n",
       "      <td>6.567</td>\n",
       "      <td>0.492</td>\n",
       "    </tr>\n",
       "    <tr>\n",
       "      <th>Ketapril</th>\n",
       "      <td>55.236</td>\n",
       "      <td>53.699</td>\n",
       "      <td>68.554</td>\n",
       "      <td>8.280</td>\n",
       "      <td>0.604</td>\n",
       "    </tr>\n",
       "    <tr>\n",
       "      <th>Naftisol</th>\n",
       "      <td>54.332</td>\n",
       "      <td>52.509</td>\n",
       "      <td>66.173</td>\n",
       "      <td>8.135</td>\n",
       "      <td>0.596</td>\n",
       "    </tr>\n",
       "    <tr>\n",
       "      <th>Placebo</th>\n",
       "      <td>54.034</td>\n",
       "      <td>52.289</td>\n",
       "      <td>61.168</td>\n",
       "      <td>7.821</td>\n",
       "      <td>0.581</td>\n",
       "    </tr>\n",
       "    <tr>\n",
       "      <th>Propriva</th>\n",
       "      <td>52.321</td>\n",
       "      <td>50.446</td>\n",
       "      <td>43.852</td>\n",
       "      <td>6.622</td>\n",
       "      <td>0.544</td>\n",
       "    </tr>\n",
       "    <tr>\n",
       "      <th>Ramicane</th>\n",
       "      <td>40.217</td>\n",
       "      <td>40.673</td>\n",
       "      <td>23.487</td>\n",
       "      <td>4.846</td>\n",
       "      <td>0.321</td>\n",
       "    </tr>\n",
       "    <tr>\n",
       "      <th>Stelasyn</th>\n",
       "      <td>54.233</td>\n",
       "      <td>52.432</td>\n",
       "      <td>59.451</td>\n",
       "      <td>7.710</td>\n",
       "      <td>0.573</td>\n",
       "    </tr>\n",
       "    <tr>\n",
       "      <th>Zoniferol</th>\n",
       "      <td>53.237</td>\n",
       "      <td>51.818</td>\n",
       "      <td>48.533</td>\n",
       "      <td>6.967</td>\n",
       "      <td>0.516</td>\n",
       "    </tr>\n",
       "  </tbody>\n",
       "</table>\n",
       "</div>"
      ],
      "text/plain": [
       "                Mean  Median Variance Standard Deviation  \\\n",
       "Drug Regimen                                               \n",
       "Capomulin     40.676  41.558   24.948              4.995   \n",
       "Ceftamin      52.591  51.776   39.290              6.268   \n",
       "Infubinol     52.885  51.821   43.129              6.567   \n",
       "Ketapril      55.236  53.699   68.554              8.280   \n",
       "Naftisol      54.332  52.509   66.173              8.135   \n",
       "Placebo       54.034  52.289   61.168              7.821   \n",
       "Propriva      52.321  50.446   43.852              6.622   \n",
       "Ramicane      40.217  40.673   23.487              4.846   \n",
       "Stelasyn      54.233  52.432   59.451              7.710   \n",
       "Zoniferol     53.237  51.818   48.533              6.967   \n",
       "\n",
       "             Standard Error of Mean  \n",
       "Drug Regimen                         \n",
       "Capomulin                     0.329  \n",
       "Ceftamin                      0.470  \n",
       "Infubinol                     0.492  \n",
       "Ketapril                      0.604  \n",
       "Naftisol                      0.596  \n",
       "Placebo                       0.581  \n",
       "Propriva                      0.544  \n",
       "Ramicane                      0.321  \n",
       "Stelasyn                      0.573  \n",
       "Zoniferol                     0.516  "
      ]
     },
     "execution_count": 7,
     "metadata": {},
     "output_type": "execute_result"
    }
   ],
   "source": [
    "# Generate a summary statistics table \n",
    "# Use groupby and summary statistical methods to calculate the following properties of each drug regimen: \n",
    "# mean, median, variance, standard deviation, and SEM of the tumor volume. \n",
    "regimen = mice_df.groupby(\"Drug Regimen\")\n",
    "mean_regimen = regimen[\"Tumor Volume (mm3)\"].mean()\n",
    "median_regimen = regimen[\"Tumor Volume (mm3)\"].median()\n",
    "variance_regimen = regimen[\"Tumor Volume (mm3)\"].var()\n",
    "std_regimen = regimen[\"Tumor Volume (mm3)\"].std()\n",
    "sem_regimen = regimen[\"Tumor Volume (mm3)\"].sem()\n",
    "\n",
    "#Assemble the resulting series into a single summary dataframe.\n",
    "regimen_stat_summary = pd.DataFrame({\"Mean\": mean_regimen, \n",
    "                                \"Median\": median_regimen, \n",
    "                                \"Variance\": variance_regimen,\n",
    "                                \"Standard Deviation\": std_regimen, \n",
    "                                \"Standard Error of Mean\": sem_regimen})\n",
    "\n",
    "#cleaning format if* neccessary \n",
    "regimen_stat_summary[\"Mean\"] = regimen_stat_summary[\"Mean\"].map(\"{:.3f}\".format)\n",
    "regimen_stat_summary[\"Median\"] = regimen_stat_summary[\"Median\"].map(\"{:.3f}\".format)\n",
    "regimen_stat_summary[\"Variance\"] = regimen_stat_summary[\"Variance\"].map(\"{:.3f}\".format)\n",
    "regimen_stat_summary[\"Standard Deviation\"] = regimen_stat_summary[\"Standard Deviation\"].map(\"{:.3f}\".format)\n",
    "regimen_stat_summary[\"Standard Error of Mean\"] = regimen_stat_summary[\"Standard Error of Mean\"].map(\"{:.3f}\".format)\n",
    "#print(regimen_summary)\n",
    "regimen_stat_summary"
   ]
  },
  {
   "cell_type": "code",
   "execution_count": 8,
   "metadata": {},
   "outputs": [
    {
     "data": {
      "text/html": [
       "<div>\n",
       "<style scoped>\n",
       "    .dataframe tbody tr th:only-of-type {\n",
       "        vertical-align: middle;\n",
       "    }\n",
       "\n",
       "    .dataframe tbody tr th {\n",
       "        vertical-align: top;\n",
       "    }\n",
       "\n",
       "    .dataframe thead th {\n",
       "        text-align: right;\n",
       "    }\n",
       "</style>\n",
       "<table border=\"1\" class=\"dataframe\">\n",
       "  <thead>\n",
       "    <tr style=\"text-align: right;\">\n",
       "      <th></th>\n",
       "      <th>Mean</th>\n",
       "      <th>Median</th>\n",
       "      <th>Variance</th>\n",
       "      <th>Standard Deviation</th>\n",
       "      <th>Standard Error of Mean</th>\n",
       "    </tr>\n",
       "    <tr>\n",
       "      <th>Drug Regimen</th>\n",
       "      <th></th>\n",
       "      <th></th>\n",
       "      <th></th>\n",
       "      <th></th>\n",
       "      <th></th>\n",
       "    </tr>\n",
       "  </thead>\n",
       "  <tbody>\n",
       "    <tr>\n",
       "      <th>Capomulin</th>\n",
       "      <td>40.675741</td>\n",
       "      <td>41.557809</td>\n",
       "      <td>24.947764</td>\n",
       "      <td>4.994774</td>\n",
       "      <td>0.329346</td>\n",
       "    </tr>\n",
       "    <tr>\n",
       "      <th>Ceftamin</th>\n",
       "      <td>52.591172</td>\n",
       "      <td>51.776157</td>\n",
       "      <td>39.290177</td>\n",
       "      <td>6.268188</td>\n",
       "      <td>0.469821</td>\n",
       "    </tr>\n",
       "    <tr>\n",
       "      <th>Infubinol</th>\n",
       "      <td>52.884795</td>\n",
       "      <td>51.820584</td>\n",
       "      <td>43.128684</td>\n",
       "      <td>6.567243</td>\n",
       "      <td>0.492236</td>\n",
       "    </tr>\n",
       "    <tr>\n",
       "      <th>Ketapril</th>\n",
       "      <td>55.235638</td>\n",
       "      <td>53.698743</td>\n",
       "      <td>68.553577</td>\n",
       "      <td>8.279709</td>\n",
       "      <td>0.603860</td>\n",
       "    </tr>\n",
       "    <tr>\n",
       "      <th>Naftisol</th>\n",
       "      <td>54.331565</td>\n",
       "      <td>52.509285</td>\n",
       "      <td>66.173479</td>\n",
       "      <td>8.134708</td>\n",
       "      <td>0.596466</td>\n",
       "    </tr>\n",
       "    <tr>\n",
       "      <th>Placebo</th>\n",
       "      <td>54.033581</td>\n",
       "      <td>52.288934</td>\n",
       "      <td>61.168083</td>\n",
       "      <td>7.821003</td>\n",
       "      <td>0.581331</td>\n",
       "    </tr>\n",
       "    <tr>\n",
       "      <th>Propriva</th>\n",
       "      <td>52.320930</td>\n",
       "      <td>50.446266</td>\n",
       "      <td>43.852013</td>\n",
       "      <td>6.622085</td>\n",
       "      <td>0.544332</td>\n",
       "    </tr>\n",
       "    <tr>\n",
       "      <th>Ramicane</th>\n",
       "      <td>40.216745</td>\n",
       "      <td>40.673236</td>\n",
       "      <td>23.486704</td>\n",
       "      <td>4.846308</td>\n",
       "      <td>0.320955</td>\n",
       "    </tr>\n",
       "    <tr>\n",
       "      <th>Stelasyn</th>\n",
       "      <td>54.233149</td>\n",
       "      <td>52.431737</td>\n",
       "      <td>59.450562</td>\n",
       "      <td>7.710419</td>\n",
       "      <td>0.573111</td>\n",
       "    </tr>\n",
       "    <tr>\n",
       "      <th>Zoniferol</th>\n",
       "      <td>53.236507</td>\n",
       "      <td>51.818479</td>\n",
       "      <td>48.533355</td>\n",
       "      <td>6.966589</td>\n",
       "      <td>0.516398</td>\n",
       "    </tr>\n",
       "  </tbody>\n",
       "</table>\n",
       "</div>"
      ],
      "text/plain": [
       "                   Mean     Median   Variance  Standard Deviation  \\\n",
       "Drug Regimen                                                        \n",
       "Capomulin     40.675741  41.557809  24.947764            4.994774   \n",
       "Ceftamin      52.591172  51.776157  39.290177            6.268188   \n",
       "Infubinol     52.884795  51.820584  43.128684            6.567243   \n",
       "Ketapril      55.235638  53.698743  68.553577            8.279709   \n",
       "Naftisol      54.331565  52.509285  66.173479            8.134708   \n",
       "Placebo       54.033581  52.288934  61.168083            7.821003   \n",
       "Propriva      52.320930  50.446266  43.852013            6.622085   \n",
       "Ramicane      40.216745  40.673236  23.486704            4.846308   \n",
       "Stelasyn      54.233149  52.431737  59.450562            7.710419   \n",
       "Zoniferol     53.236507  51.818479  48.533355            6.966589   \n",
       "\n",
       "              Standard Error of Mean  \n",
       "Drug Regimen                          \n",
       "Capomulin                   0.329346  \n",
       "Ceftamin                    0.469821  \n",
       "Infubinol                   0.492236  \n",
       "Ketapril                    0.603860  \n",
       "Naftisol                    0.596466  \n",
       "Placebo                     0.581331  \n",
       "Propriva                    0.544332  \n",
       "Ramicane                    0.320955  \n",
       "Stelasyn                    0.573111  \n",
       "Zoniferol                   0.516398  "
      ]
     },
     "execution_count": 8,
     "metadata": {},
     "output_type": "execute_result"
    }
   ],
   "source": [
    "# Generate a summary statistics table of mean, median, variance, standard deviation, and SEM of the tumor volume for each regimen\n",
    "# Using the aggregation method, produce the same summary statistics in a single line\n",
    "\n",
    "regimen_type = mice_df.groupby(\"Drug Regimen\")\n",
    "agg_regimen_type = regimen_type[\"Tumor Volume (mm3)\"].agg([\"mean\", \"median\", \"var\", \"std\", \"sem\"]) \n",
    "\n",
    "#rename columns \n",
    "agg_stat_table = agg_regimen_type.rename(columns = {\"mean\" :\"Mean\", \"median\" : \"Median\", \"var\" : \"Variance\", \"std\": \"Standard Deviation\", \"sem\" : \"Standard Error of Mean\"})\n",
    "\n",
    "agg_stat_table"
   ]
  },
  {
   "cell_type": "markdown",
   "metadata": {},
   "source": [
    "## Bar and Pie Charts"
   ]
  },
  {
   "cell_type": "code",
   "execution_count": 9,
   "metadata": {},
   "outputs": [
    {
     "data": {
      "image/png": "[encoded data removed]",
      "text/plain": [
       "<Figure size 432x288 with 1 Axes>"
      ]
     },
     "metadata": {
      "needs_background": "light"
     },
     "output_type": "display_data"
    }
   ],
   "source": [
    "# Generate a bar plot showing the total number of measurements taken on each drug regimen using pandas.\n",
    "treatment_to_mice = regimen[\"Drug Regimen\"].count()\n",
    "pandas_chart = treatment_to_mice.plot(kind= \"bar\", title = \"Recorded Measurements per Treatment\", color = \"darksalmon\")\n",
    "pandas_chart.set_xlabel(\"Regimen\")\n",
    "pandas_chart.set_ylabel(\"Measurements\")\n",
    "plt.show()"
   ]
  },
  {
   "cell_type": "code",
   "execution_count": 10,
   "metadata": {},
   "outputs": [
    {
     "data": {
      "image/png": "[encoded data removed]",
      "text/plain": [
       "<Figure size 432x288 with 1 Axes>"
      ]
     },
     "metadata": {
      "needs_background": "light"
     },
     "output_type": "display_data"
    }
   ],
   "source": [
    "# Generate a bar plot showing the total number of measurements taken on each drug regimen using pyplot.\n",
    "y_axis = regimen[\"Drug Regimen\"].count()\n",
    "x_axis = np.arange(len(regimen))\n",
    "plt.bar(x_axis, y_axis, color=\"salmon\", alpha = 0.5)\n",
    "\n",
    "plt.title(\"Recorded Measurements per Treatment\")\n",
    "plt.xlabel(\"Regimen\")\n",
    "plt.ylabel(\"Measurements\")\n",
    "plt.show()"
   ]
  },
  {
   "cell_type": "code",
   "execution_count": 11,
   "metadata": {},
   "outputs": [
    {
     "data": {
      "image/png": "[encoded data removed]",
      "text/plain": [
       "<Figure size 432x288 with 1 Axes>"
      ]
     },
     "metadata": {},
     "output_type": "display_data"
    }
   ],
   "source": [
    "# Generate a pie plot showing the distribution of female versus male mice using pandas\n",
    "#create a data frame for gender\n",
    "colors = [\"lightcoral\", \"mistyrose\"]\n",
    "mice_df.groupby([\"Sex\"]).count().plot(kind=\"pie\", y=\"Mouse ID\", colors=colors, title=\"Mice Sex Percentages\",\n",
    "                                      autopct=\"%1.1f%%\", shadow=True, startangle=90 )\n",
    "plt.show()"
   ]
  },
  {
   "cell_type": "code",
   "execution_count": 12,
   "metadata": {},
   "outputs": [
    {
     "data": {
      "image/png": "[encoded data removed]",
      "text/plain": [
       "<Figure size 432x288 with 1 Axes>"
      ]
     },
     "metadata": {},
     "output_type": "display_data"
    }
   ],
   "source": [
    "# Generate a pie plot showing the distribution of female versus male mice using pyplot\n",
    "#determine sex count\n",
    "gender_count = mice_df.groupby(\"Sex\").nunique()\n",
    "gender_count\n",
    "#creat pie chart with plypot\n",
    "labels = [\"Female\", \"Male\"]\n",
    "sizes = [123, 125]\n",
    "colors = [\"lavender\", \"thistle\"]\n",
    "explode = (0,0)\n",
    "plt.pie(sizes, explode=explode, labels=labels, colors=colors, autopct=\"%1.1f%%\", shadow = True, startangle = 90)\n",
    "plt.title(\"Mice Sex Percentages\")\n",
    "plt.show()\n",
    "#????????why are pie chart proportions different?????"
   ]
  },
  {
   "cell_type": "markdown",
   "metadata": {},
   "source": [
    "## Quartiles, Outliers and Boxplots"
   ]
  },
  {
   "cell_type": "code",
   "execution_count": 13,
   "metadata": {},
   "outputs": [],
   "source": [
    "# Calculate the final tumor volume of each mouse across four of the treatment regimens:  \n",
    "# Capomulin, Ramicane, Infubinol, and Ceftamin\n",
    "# Start by getting the last (greatest) timepoint for each mouse\n",
    "# Merge this group df with the original dataframe to get the tumor volume at the last timepoint\n",
    "\n",
    "#Capomul Combined DF\n",
    "capomulin_data = mice_df.loc[mice_df[\"Drug Regimen\"] == \"Capomulin\"]\n",
    "capomulin_totals = capomulin_data.groupby(\"Mouse ID\")\n",
    "capomulin_greatest_tp = capomulin_totals[\"Tumor Volume (mm3)\"].max()\n",
    "capomulin_least_tp = capomulin_totals[\"Tumor Volume (mm3)\"].min()\n",
    "cap_calc = capomulin_greatest_tp -capomulin_least_tp\n",
    "cap_df = pd.DataFrame(cap_calc)\n",
    "capomulin_stats = pd.merge(mice_df, cap_df, on=(\"Mouse ID\", \"Tumor Volume (mm3)\"), how = \"outer\")\n",
    "                         \n",
    "\n",
    "#Ramicane Combined DF\n",
    "ramicane_data = mice_df.loc[mice_df[\"Drug Regimen\"] == \"Ramicane\"]\n",
    "ramicane_totals = ramicane_data.groupby(\"Mouse ID\")\n",
    "ramicane_greatest_tp = ramicane_totals[\"Tumor Volume (mm3)\"].max()\n",
    "ramicane_least_tp = ramicane_totals[\"Tumor Volume (mm3)\"].min()\n",
    "ram_calc = ramicane_greatest_tp - ramicane_least_tp\n",
    "ram_df = pd.DataFrame(ram_calc)\n",
    "ramicane_stats = pd.merge(mice_df, ram_df, on=(\"Mouse ID\", \"Tumor Volume (mm3)\"), how = \"outer\")\n",
    "\n",
    "#Infubinol Combined DF\n",
    "infubinol_data = mice_df.loc[mice_df[\"Drug Regimen\"] == \"Infubinol\"]\n",
    "infubinol_totals = infubinol_data.groupby(\"Mouse ID\")\n",
    "infubinol_greatest_tp = infubinol_totals[\"Tumor Volume (mm3)\"].max()\n",
    "infubinol_least_tp = infubinol_totals[\"Tumor Volume (mm3)\"].min()\n",
    "inf_calc = infubinol_greatest_tp -infubinol_least_tp\n",
    "inf_df = pd.DataFrame(inf_calc)\n",
    "infubinol_stats = pd.merge(mice_df, inf_df, on=(\"Mouse ID\", \"Tumor Volume (mm3)\"), how = \"outer\")\n",
    "                          \n",
    "                          \n",
    "#Ceftamin Combined DF\n",
    "ceftamin_data = mice_df.loc[mice_df[\"Drug Regimen\"] == \"Ceftamin\"]\n",
    "ceftamin_totals = ceftamin_data.groupby(\"Mouse ID\")\n",
    "ceftamin_greatest_tp = ceftamin_totals[\"Tumor Volume (mm3)\"].max()\n",
    "ceftamin_least_tp = ceftamin_totals[\"Tumor Volume (mm3)\"].min()\n",
    "ceft_calc = ceftamin_greatest_tp - ceftamin_least_tp\n",
    "ceft_df = pd.DataFrame(ceft_calc)\n",
    "ceftamin_stats = pd.merge(mice_df, ceft_df, on=(\"Mouse ID\", \"Tumor Volume (mm3)\"), how = \"outer\")          "
   ]
  },
  {
   "cell_type": "code",
   "execution_count": 14,
   "metadata": {},
   "outputs": [],
   "source": [
    "# Put treatments into a list for for loop??????? (and later for plot labels)\n",
    "# Create empty list to fill with tumor vol data (for plotting)\n",
    "# Calculate the IQR and quantitatively determine if there are any potential outliers.  \n",
    "    # Locate the rows which contain mice on each drug and get the tumor volumes\n",
    "    # add subset \n",
    "    # Determine outliers using upper and lower bounds\n",
    "    "
   ]
  },
  {
   "cell_type": "code",
   "execution_count": 15,
   "metadata": {},
   "outputs": [
    {
     "name": "stdout",
     "output_type": "stream",
     "text": [
      "Values below 28.223004015000004 could be outliers.\n",
      "Values above 72.96165997499999 could be outliers.\n",
      "The lower quartile of the Capomulin Tumor Regimen is: 45.0\n",
      "The upper quartile of the Capomulin Tumor Regimen is: 56.18466399\n",
      "The interquartile range of the Capomulin Tumor Regimen is: 11.184663989999997\n",
      "The the median of the Capomulin Tumor Regimen is: 48.75311208 \n"
     ]
    }
   ],
   "source": [
    "#Capomul quartile calculations\n",
    "quartiles = capomulin_stats[\"Tumor Volume (mm3)\"].quantile([.25,.5,.75])\n",
    "cap_lowerq = quartiles[0.25]\n",
    "cap_upperq = quartiles[0.75]\n",
    "cap_iqr = cap_upperq - cap_lowerq\n",
    "\n",
    "cap_lower_bound = cap_lowerq - (1.5 * cap_iqr)\n",
    "cap_upper_bound = cap_upperq + (1.5 * cap_iqr)\n",
    "print(f\"Values below {cap_lower_bound} could be outliers.\")\n",
    "print(f\"Values above {cap_upper_bound} could be outliers.\")\n",
    "\n",
    "print(f\"The lower quartile of the Capomulin Tumor Regimen is: {cap_lowerq}\")\n",
    "print(f\"The upper quartile of the Capomulin Tumor Regimen is: {cap_upperq}\")\n",
    "print(f\"The interquartile range of the Capomulin Tumor Regimen is: {cap_iqr}\")\n",
    "print(f\"The the median of the Capomulin Tumor Regimen is: {quartiles[0.5]} \")\n",
    "\n"
   ]
  },
  {
   "cell_type": "code",
   "execution_count": 16,
   "metadata": {},
   "outputs": [
    {
     "name": "stdout",
     "output_type": "stream",
     "text": [
      "Values below 28.223004015000004 could be outliers.\n",
      "Values above 72.96165997499999 could be outliers.\n",
      "The lower quartile of the Ramicane Tumor Regimen is: 45.0\n",
      "The upper quartile of the Ramicane Tumor Regimen is: 56.18466399\n",
      "The interquartile range of the Ramicane Tumor Regimen is: 11.184663989999997\n",
      "The the median of the Ramicane Tumor Regimen is: 48.75311208 \n"
     ]
    }
   ],
   "source": [
    "#Ramicane quartile calculations\n",
    "quartiles = ramicane_stats[\"Tumor Volume (mm3)\"].quantile([.25,.5,.75])\n",
    "ram_lowerq = quartiles[0.25]\n",
    "ram_upperq = quartiles[0.75]\n",
    "ram_iqr = ram_upperq - ram_lowerq\n",
    "\n",
    "ram_lower_bound = ram_lowerq - (1.5 * ram_iqr)\n",
    "ram_upper_bound = ram_upperq + (1.5 * ram_iqr)\n",
    "print(f\"Values below {ram_lower_bound} could be outliers.\")\n",
    "print(f\"Values above {ram_upper_bound} could be outliers.\")\n",
    "\n",
    "print(f\"The lower quartile of the Ramicane Tumor Regimen is: {ram_lowerq}\")\n",
    "print(f\"The upper quartile of the Ramicane Tumor Regimen is: {ram_upperq}\")\n",
    "print(f\"The interquartile range of the Ramicane Tumor Regimen is: {ram_iqr}\")\n",
    "print(f\"The the median of the Ramicane Tumor Regimen is: {quartiles[0.5]} \")\n"
   ]
  },
  {
   "cell_type": "code",
   "execution_count": 17,
   "metadata": {},
   "outputs": [
    {
     "name": "stdout",
     "output_type": "stream",
     "text": [
      "Values below 28.223004015000004 could be outliers.\n",
      "Values above 72.96165997499999 could be outliers.\n",
      "The lower quartile of the Infubinol Tumor Regimen is: 45.0\n",
      "The upper quartile of the Infubinol Tumor Regimen is: 56.18466399\n",
      "The interquartile range of the Infubinol Tumor Regimen is: 11.184663989999997\n",
      "The the median of the Infubinol Tumor Regimen is: 48.75311208 \n"
     ]
    }
   ],
   "source": [
    "#Infubinol quartile calculations\n",
    "quartiles = infubinol_stats[\"Tumor Volume (mm3)\"].quantile([.25,.5,.75])\n",
    "inf_lowerq = quartiles[0.25]\n",
    "inf_upperq = quartiles[0.75]\n",
    "inf_iqr = inf_upperq - inf_lowerq\n",
    "\n",
    "inf_lower_bound = inf_lowerq - (1.5 * inf_iqr)\n",
    "inf_upper_bound = inf_upperq + (1.5 * inf_iqr)\n",
    "print(f\"Values below {inf_lower_bound} could be outliers.\")\n",
    "print(f\"Values above {inf_upper_bound} could be outliers.\")\n",
    "\n",
    "print(f\"The lower quartile of the Infubinol Tumor Regimen is: {inf_lowerq}\")\n",
    "print(f\"The upper quartile of the Infubinol Tumor Regimen is: {inf_upperq}\")\n",
    "print(f\"The interquartile range of the Infubinol Tumor Regimen is: {inf_iqr}\")\n",
    "print(f\"The the median of the Infubinol Tumor Regimen is: {quartiles[0.5]} \")"
   ]
  },
  {
   "cell_type": "code",
   "execution_count": 18,
   "metadata": {},
   "outputs": [
    {
     "name": "stdout",
     "output_type": "stream",
     "text": [
      "Values below 28.223004015000004 could be outliers.\n",
      "Values above 72.96165997499999 could be outliers.\n",
      "The lower quartile of the Ceftamin Tumor Regimen is: 45.0\n",
      "The upper quartile of the Ceftamin Tumor Regimen is: 56.18466399\n",
      "The interquartile range of the Ceftamin Tumor Regimen is: 11.184663989999997\n",
      "The the median of the Ceftamin Tumor Regimen is: 48.75311208 \n"
     ]
    }
   ],
   "source": [
    "#Ceftamin quartile calculations\n",
    "quartiles = ceftamin_stats[\"Tumor Volume (mm3)\"].quantile([.25,.5,.75])\n",
    "ceft_lowerq = quartiles[0.25]\n",
    "ceft_upperq = quartiles[0.75]\n",
    "ceft_iqr = ceft_upperq - ceft_lowerq\n",
    "\n",
    "#math is wrong ^^\n",
    "\n",
    "ceft_lower_bound = ceft_lowerq - (1.5 * ceft_iqr)\n",
    "ceft_upper_bound = ceft_upperq + (1.5 * ceft_iqr)\n",
    "print(f\"Values below {ceft_lower_bound} could be outliers.\")\n",
    "print(f\"Values above {ceft_upper_bound} could be outliers.\")\n",
    "\n",
    "print(f\"The lower quartile of the Ceftamin Tumor Regimen is: {ceft_lowerq}\")\n",
    "print(f\"The upper quartile of the Ceftamin Tumor Regimen is: {ceft_upperq}\")\n",
    "print(f\"The interquartile range of the Ceftamin Tumor Regimen is: {ceft_iqr}\")\n",
    "print(f\"The the median of the Ceftamin Tumor Regimen is: {quartiles[0.5]} \")"
   ]
  },
  {
   "cell_type": "code",
   "execution_count": 19,
   "metadata": {},
   "outputs": [
    {
     "data": {
      "image/png": "[encoded data removed]",
      "text/plain": [
       "<Figure size 432x288 with 1 Axes>"
      ]
     },
     "metadata": {
      "needs_background": "light"
     },
     "output_type": "display_data"
    }
   ],
   "source": [
    "# Generate a box plot of the final tumor volume of each mouse across four regimens of interest\n",
    "cap_plot = capomulin_stats[\"Tumor Volume (mm3)\"]\n",
    "ram_plot = ramicane_stats[\"Tumor Volume (mm3)\"]\n",
    "inf_plot = infubinol_stats[\"Tumor Volume (mm3)\"]\n",
    "ceft_plot = ceftamin_stats[\"Tumor Volume (mm3)\"]\n",
    "regimen_plot =[cap_plot,ram_plot,inf_plot,ceft_plot]\n",
    "\n",
    "\n",
    "fig1, axl = plt.subplots()\n",
    "axl.set_title(\"Overall Final Tumor Volume per Mouse\")\n",
    "axl.set_ylabel(\"Tumor Volume (mm3)\")\n",
    "axl.boxplot(regimen_plot)\n",
    "plt.show()"
   ]
  },
  {
   "cell_type": "markdown",
   "metadata": {},
   "source": [
    "## Line and Scatter Plots"
   ]
  },
  {
   "cell_type": "code",
   "execution_count": 20,
   "metadata": {},
   "outputs": [
    {
     "data": {
      "image/png": "[encoded data removed]",
      "text/plain": [
       "<Figure size 432x288 with 1 Axes>"
      ]
     },
     "metadata": {
      "needs_background": "light"
     },
     "output_type": "display_data"
    }
   ],
   "source": [
    "# Generate a line plot of tumor volume vs. time point for a mouse treated with Capomulin\n",
    "cap_treated_mouse = mice_df.loc[mice_df[\"Mouse ID\"] == \"f966\"]\n",
    "\n",
    "x_axis = cap_treated_mouse[\"Timepoint\"]\n",
    "y_axis = cap_treated_mouse[\"Tumor Volume (mm3)\"]\n",
    "plt.plot(x_axis, y_axis, marker = \"o\", color = \"coral\")\n",
    "plt.title(\"Mouse F966 Capomulin Treatment Progression\")\n",
    "plt.xlabel(\"Timepoint\")\n",
    "plt.ylabel(\"Tumor Volume (mm3)\")\n",
    "plt.show()\n",
    "\n",
    "#happy mouse, tumor volume decreased!"
   ]
  },
  {
   "cell_type": "code",
   "execution_count": 21,
   "metadata": {},
   "outputs": [
    {
     "data": {
      "text/plain": [
       "Text(0, 0.5, 'Tumor Volume (mm3)')"
      ]
     },
     "execution_count": 21,
     "metadata": {},
     "output_type": "execute_result"
    },
    {
     "data": {
      "image/png": "[encoded data removed]",
      "text/plain": [
       "<Figure size 432x288 with 1 Axes>"
      ]
     },
     "metadata": {
      "needs_background": "light"
     },
     "output_type": "display_data"
    }
   ],
   "source": [
    "# Generate a scatter plot of average tumor volume vs. mouse weight for the Capomulin regimen\n",
    "cap_mice = capomulin_stats.groupby([\"Mouse ID\"])\n",
    "cap_avg_tum = cap_mice.mean() \n",
    "\n",
    "x = cap_avg_tum[\"Weight (g)\"]\n",
    "y = cap_avg_tum[\"Tumor Volume (mm3)\"]\n",
    "\n",
    "plt.scatter(x, y, marker = \"d\", facecolor = \"lavender\", edgecolor = \"purple\")\n",
    "plt.title(\"Avg Tumor Volume vs Mouse Weight for Capomulin Treatment\")\n",
    "plt.xlabel(\"Weight (gram)\")\n",
    "plt.ylabel(\"Tumor Volume (mm3)\")"
   ]
  },
  {
   "cell_type": "markdown",
   "metadata": {},
   "source": [
    "## Correlation and Regression"
   ]
  },
  {
   "cell_type": "code",
   "execution_count": 22,
   "metadata": {},
   "outputs": [],
   "source": [
    "# Calculate the correlation coefficient and linear regression model \n",
    "# for mouse weight and average tumor volume for the Capomulin regimen\n"
   ]
  },
  {
   "cell_type": "code",
   "execution_count": null,
   "metadata": {},
   "outputs": [],
   "source": []
  }
 ],
 "metadata": {
  "anaconda-cloud": {},
  "kernelspec": {
   "display_name": "Python 3",
   "language": "python",
   "name": "python3"
  },
  "language_info": {
   "codemirror_mode": {
    "name": "ipython",
    "version": 3
   },
   "file_extension": ".py",
   "mimetype": "text/x-python",
   "name": "python",
   "nbconvert_exporter": "python",
   "pygments_lexer": "ipython3",
   "version": "3.8.5"
  }
 },
 "nbformat": 4,
 "nbformat_minor": 4
}
